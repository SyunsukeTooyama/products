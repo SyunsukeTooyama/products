{
 "cells": [
  {
   "cell_type": "code",
   "execution_count": 3,
   "id": "522c8284",
   "metadata": {
    "scrolled": true
   },
   "outputs": [
    {
     "name": "stdout",
     "output_type": "stream",
     "text": [
      "GoogleDriveFile({'title': 'new_folder', 'mimeType': 'application/vnd.google-apps.folder'})\n"
     ]
    }
   ],
   "source": [
    "import pprint\n",
    "\n",
    "from pydrive.auth import GoogleAuth\n",
    "from pydrive.drive import GoogleDrive\n",
    "\n",
    "#Googleサービスの認証\n",
    "gauth = GoogleAuth()\n",
    "\n",
    "#ユーザーから認証コードを自動的に受信しローカルWebサーバーを設定\n",
    "gauth.LocalWebserverAuth()\n",
    "\n",
    "drive = GoogleDrive(gauth)\n",
    "\n",
    "#フォルダの作成\n",
    "f_folder = drive.CreateFile({'title': 'new_folder',\n",
    "                             'mimeType': 'application/vnd.google-apps.folder'})\n",
    "#作成したフォルダの情報を表示\n",
    "print(f_folder)\n",
    "\n",
    "#フォルダのアップロード(google driveの最上位のディレクトリにファイルが置かれます。)\n",
    "f_folder.Upload()\n"
   ]
  },
  {
   "cell_type": "code",
   "execution_count": null,
   "id": "3c2fb578",
   "metadata": {},
   "outputs": [],
   "source": []
  }
 ],
 "metadata": {
  "kernelspec": {
   "display_name": "Python 3 (ipykernel)",
   "language": "python",
   "name": "python3"
  },
  "language_info": {
   "codemirror_mode": {
    "name": "ipython",
    "version": 3
   },
   "file_extension": ".py",
   "mimetype": "text/x-python",
   "name": "python",
   "nbconvert_exporter": "python",
   "pygments_lexer": "ipython3",
   "version": "3.10.6"
  }
 },
 "nbformat": 4,
 "nbformat_minor": 5
}
